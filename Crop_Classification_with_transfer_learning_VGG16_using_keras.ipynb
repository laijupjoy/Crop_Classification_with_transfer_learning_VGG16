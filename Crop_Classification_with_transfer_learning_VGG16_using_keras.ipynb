{
  "nbformat": 4,
  "nbformat_minor": 0,
  "metadata": {
    "kernelspec": {
      "language": "python",
      "display_name": "Python 3",
      "name": "python3"
    },
    "language_info": {
      "pygments_lexer": "ipython3",
      "nbconvert_exporter": "python",
      "version": "3.6.4",
      "file_extension": ".py",
      "codemirror_mode": {
        "name": "ipython",
        "version": 3
      },
      "name": "python",
      "mimetype": "text/x-python"
    },
    "colab": {
      "name": "Crop_Classification_with_transfer_learning_VGG16_using_keras_(2).ipynb",
      "provenance": []
    },
    "accelerator": "GPU"
  },
  "cells": [
    {
      "cell_type": "markdown",
      "metadata": {
        "id": "OuzNZqmGWjR8"
      },
      "source": [
        "Import the required libraries"
      ]
    },
    {
      "cell_type": "code",
      "metadata": {
        "_uuid": "8f2839f25d086af736a60e9eeb907d3b93b6e0e5",
        "_cell_guid": "b1076dfc-b9ad-4769-8c92-a6c4dae69d19",
        "trusted": true,
        "id": "cdeiyr6OVrsh"
      },
      "source": [
        "# import the libraries as shown below\n",
        "from matplotlib import pyplot\n",
        "import matplotlib.pyplot as plt\n",
        "import os\n",
        "import cv2\n",
        "import numpy as np"
      ],
      "execution_count": 10,
      "outputs": []
    },
    {
      "cell_type": "code",
      "metadata": {
        "colab": {
          "base_uri": "https://localhost:8080/"
        },
        "id": "X0JSwn3sWKjN",
        "outputId": "61c32356-d977-45ba-dd52-a88fda44f6e0"
      },
      "source": [
        "from google.colab import drive\n",
        "drive.mount('/content/drive')"
      ],
      "execution_count": 2,
      "outputs": [
        {
          "output_type": "stream",
          "text": [
            "Mounted at /content/drive\n"
          ],
          "name": "stdout"
        }
      ]
    },
    {
      "cell_type": "code",
      "metadata": {
        "trusted": true,
        "id": "w2b6vLOlVrsm"
      },
      "source": [
        "from keras.preprocessing.image import img_to_array\n",
        "from sklearn.utils import shuffle\n",
        "from sklearn.model_selection import train_test_split\n",
        "from keras.preprocessing.image import ImageDataGenerator\n",
        "from sklearn.metrics import classification_report, confusion_matrix\n",
        "from keras.preprocessing.image import ImageDataGenerator,load_img"
      ],
      "execution_count": 3,
      "outputs": []
    },
    {
      "cell_type": "code",
      "metadata": {
        "id": "JJ6d3vm3pSUi"
      },
      "source": [
        "from tensorflow.keras.applications import VGG16\n",
        "from tensorflow.keras.applications.vgg16 import preprocess_input\n",
        "from tensorflow.keras.models import Sequential\n",
        "from tensorflow.keras.layers import Dense, Dropout, Activation, Flatten\n",
        "from tensorflow.keras.layers import Conv2D, MaxPooling2D, ZeroPadding2D\n",
        "from tensorflow.keras.layers import BatchNormalization\n",
        "from tensorflow.keras.models import Model\n",
        "import numpy as np\n",
        "from glob import glob"
      ],
      "execution_count": 4,
      "outputs": []
    },
    {
      "cell_type": "code",
      "metadata": {
        "id": "ZKUwMmPhVg1Q"
      },
      "source": [
        "import seaborn as sns"
      ],
      "execution_count": 5,
      "outputs": []
    },
    {
      "cell_type": "markdown",
      "metadata": {
        "id": "WNaxOfhFWf6s"
      },
      "source": [
        "Loading the data for Visualize the train and test data analysis"
      ]
    },
    {
      "cell_type": "code",
      "metadata": {
        "id": "McceGQgF-mLH"
      },
      "source": [
        "labels = ['jute', 'maize','rice','sugarcane','wheat']\n",
        "img_size = 224\n",
        "def get_data(data_dir):\n",
        "    data = [] \n",
        "    for label in labels: \n",
        "        path = os.path.join(data_dir, label)\n",
        "        class_num = labels.index(label)\n",
        "        for img in os.listdir(path):\n",
        "            try:\n",
        "                img_arr = cv2.imread(os.path.join(path, img))[...,::-1] #convert BGR to RGB format\n",
        "                resized_arr = cv2.resize(img_arr, (img_size, img_size)) # Reshaping images to preferred size\n",
        "                data.append([resized_arr, class_num])\n",
        "            except Exception as e:\n",
        "                print(e)\n",
        "    return np.array(data)"
      ],
      "execution_count": 7,
      "outputs": []
    },
    {
      "cell_type": "code",
      "metadata": {
        "id": "nxH1zd6vV96U",
        "colab": {
          "base_uri": "https://localhost:8080/"
        },
        "outputId": "ceabbb63-06ed-44d9-ec18-8885116ae24c"
      },
      "source": [
        "#Now we can easily fetch our train and validation data.\n",
        "train_path = get_data('/content/drive/MyDrive/Crop dataset/train')\n",
        "test_path = get_data('/content/drive/MyDrive/Crop dataset/test')"
      ],
      "execution_count": 11,
      "outputs": [
        {
          "output_type": "stream",
          "text": [
            "/usr/local/lib/python3.7/dist-packages/ipykernel_launcher.py:15: VisibleDeprecationWarning: Creating an ndarray from ragged nested sequences (which is a list-or-tuple of lists-or-tuples-or ndarrays with different lengths or shapes) is deprecated. If you meant to do this, you must specify 'dtype=object' when creating the ndarray\n",
            "  from ipykernel import kernelapp as app\n"
          ],
          "name": "stderr"
        }
      ]
    },
    {
      "cell_type": "markdown",
      "metadata": {
        "id": "uoOnOqamWwvU"
      },
      "source": [
        "Visualize the train data analysis"
      ]
    },
    {
      "cell_type": "code",
      "metadata": {
        "id": "xCK4ercaVm5o",
        "colab": {
          "base_uri": "https://localhost:8080/",
          "height": 352
        },
        "outputId": "0649d0aa-7515-4343-f1dc-26833db60433"
      },
      "source": [
        "l = []\n",
        "for i in train_path:\n",
        "    if(i[1] == 0):\n",
        "        l.append(\"jute\")\n",
        "    if(i[1] == 1):\n",
        "        l.append(\"maize\")\n",
        "    if(i[1] == 2):\n",
        "        l.append(\"rice\")\n",
        "    if(i[1] == 3):\n",
        "        l.append(\"sugarcane\")\n",
        "    if(i[1] == 4):\n",
        "        l.append(\"wheat\")\n",
        "sns.set_style('darkgrid')\n",
        "sns.countplot(l).set_title('Train data')"
      ],
      "execution_count": 13,
      "outputs": [
        {
          "output_type": "stream",
          "text": [
            "/usr/local/lib/python3.7/dist-packages/seaborn/_decorators.py:43: FutureWarning: Pass the following variable as a keyword arg: x. From version 0.12, the only valid positional argument will be `data`, and passing other arguments without an explicit keyword will result in an error or misinterpretation.\n",
            "  FutureWarning\n"
          ],
          "name": "stderr"
        },
        {
          "output_type": "execute_result",
          "data": {
            "text/plain": [
              "Text(0.5, 1.0, 'Train data')"
            ]
          },
          "metadata": {
            "tags": []
          },
          "execution_count": 13
        },
        {
          "output_type": "display_data",
          "data": {
            "image/png": "[encoded data removed]",
            "text/plain": [
              "<Figure size 432x288 with 1 Axes>"
            ]
          },
          "metadata": {
            "tags": []
          }
        }
      ]
    },
    {
      "cell_type": "markdown",
      "metadata": {
        "id": "9gBPTWKKXHsY"
      },
      "source": [
        "Visualize the test data analysis"
      ]
    },
    {
      "cell_type": "code",
      "metadata": {
        "id": "2SGVIAv_Vu0S",
        "colab": {
          "base_uri": "https://localhost:8080/",
          "height": 352
        },
        "outputId": "a23da200-137d-4056-c39e-dce8eda4bc7a"
      },
      "source": [
        "l = []\n",
        "for i in test_path:\n",
        "    if(i[1] == 0):\n",
        "        l.append(\"jute\")\n",
        "    if(i[1] == 1):\n",
        "        l.append(\"maize\")\n",
        "    if(i[1] == 2):\n",
        "        l.append(\"rice\")\n",
        "    if(i[1] == 3):\n",
        "        l.append(\"sugarcane\")\n",
        "    if(i[1] == 4):\n",
        "        l.append(\"wheat\")\n",
        "sns.set_style('darkgrid')\n",
        "sns.countplot(l).set_title('Test data')"
      ],
      "execution_count": 16,
      "outputs": [
        {
          "output_type": "stream",
          "text": [
            "/usr/local/lib/python3.7/dist-packages/seaborn/_decorators.py:43: FutureWarning: Pass the following variable as a keyword arg: x. From version 0.12, the only valid positional argument will be `data`, and passing other arguments without an explicit keyword will result in an error or misinterpretation.\n",
            "  FutureWarning\n"
          ],
          "name": "stderr"
        },
        {
          "output_type": "execute_result",
          "data": {
            "text/plain": [
              "Text(0.5, 1.0, 'Test data')"
            ]
          },
          "metadata": {
            "tags": []
          },
          "execution_count": 16
        },
        {
          "output_type": "display_data",
          "data": {
            "image/png": "[encoded data removed]",
            "text/plain": [
              "<Figure size 432x288 with 1 Axes>"
            ]
          },
          "metadata": {
            "tags": []
          }
        }
      ]
    },
    {
      "cell_type": "code",
      "metadata": {
        "trusted": true,
        "id": "vvd1otISVrsn"
      },
      "source": [
        "# re-size all the images to this\n",
        "IMAGE_SIZE = [224, 224]\n",
        "\n",
        "#Now we can easily fetch our train and validation data.\n",
        "train_path = '/content/drive/MyDrive/Crop dataset/train'\n",
        "test_path = '/content/drive/MyDrive/Crop dataset/test'"
      ],
      "execution_count": 25,
      "outputs": []
    },
    {
      "cell_type": "code",
      "metadata": {
        "trusted": true,
        "id": "_-CMf-ZtVrso"
      },
      "source": [
        "batch_size=32"
      ],
      "execution_count": 26,
      "outputs": []
    },
    {
      "cell_type": "code",
      "metadata": {
        "trusted": true,
        "id": "5_bBhrg5Vrso"
      },
      "source": [
        "# Use the Image Data Generator to import the images from the dataset\n",
        "train_datagen = ImageDataGenerator(rescale=1.0/255.0,\n",
        "                                   horizontal_flip=True,\n",
        "                                   vertical_flip=True,\n",
        "                                   shear_range = 0.2,\n",
        "                                   zoom_range = 0.2,\n",
        "                                   rotation_range=90)\n",
        "\n",
        "test_datagen = ImageDataGenerator(rescale=1.0/255.0)"
      ],
      "execution_count": 27,
      "outputs": []
    },
    {
      "cell_type": "code",
      "metadata": {
        "colab": {
          "base_uri": "https://localhost:8080/"
        },
        "id": "bYaXxSCrZ5jk",
        "outputId": "68035af3-45e1-4713-a6ea-062ede136ffc"
      },
      "source": [
        "# Make sure you provide the same target size as initialied for the image size\n",
        "train_generator = train_datagen.flow_from_directory(\n",
        "        train_path,\n",
        "        target_size=(224, 224),\n",
        "        batch_size=batch_size,\n",
        "        class_mode='categorical',\n",
        "        shuffle=True)\n",
        "\n",
        "test_generator = test_datagen.flow_from_directory(\n",
        "        test_path,\n",
        "        target_size=(224, 224),\n",
        "        batch_size=batch_size,\n",
        "        class_mode='categorical',\n",
        "        shuffle=False)"
      ],
      "execution_count": 28,
      "outputs": [
        {
          "output_type": "stream",
          "text": [
            "Found 804 images belonging to 5 classes.\n",
            "Found 201 images belonging to 5 classes.\n"
          ],
          "name": "stdout"
        }
      ]
    },
    {
      "cell_type": "code",
      "metadata": {
        "id": "AMdSnWWUuz9M"
      },
      "source": [
        "# useful for getting number of output classes\n",
        "folders = glob('/content/drive/MyDrive/Crop dataset/train/*')"
      ],
      "execution_count": 29,
      "outputs": []
    },
    {
      "cell_type": "code",
      "metadata": {
        "trusted": true,
        "colab": {
          "base_uri": "https://localhost:8080/"
        },
        "id": "ieABLgCeVrsp",
        "outputId": "882b3e16-18fc-4896-b5b9-b9ebeb15216d"
      },
      "source": [
        "folders"
      ],
      "execution_count": 30,
      "outputs": [
        {
          "output_type": "execute_result",
          "data": {
            "text/plain": [
              "['/content/drive/MyDrive/Crop dataset/train/jute',\n",
              " '/content/drive/MyDrive/Crop dataset/train/maize',\n",
              " '/content/drive/MyDrive/Crop dataset/train/wheat',\n",
              " '/content/drive/MyDrive/Crop dataset/train/rice',\n",
              " '/content/drive/MyDrive/Crop dataset/train/sugarcane']"
            ]
          },
          "metadata": {
            "tags": []
          },
          "execution_count": 30
        }
      ]
    },
    {
      "cell_type": "code",
      "metadata": {
        "colab": {
          "base_uri": "https://localhost:8080/"
        },
        "id": "0TrmSuKzbPGG",
        "outputId": "d4d36897-8839-4cb3-82e8-13db160d7705"
      },
      "source": [
        "len(folders)"
      ],
      "execution_count": 31,
      "outputs": [
        {
          "output_type": "execute_result",
          "data": {
            "text/plain": [
              "5"
            ]
          },
          "metadata": {
            "tags": []
          },
          "execution_count": 31
        }
      ]
    },
    {
      "cell_type": "code",
      "metadata": {
        "trusted": true,
        "colab": {
          "base_uri": "https://localhost:8080/"
        },
        "id": "n6qsHf1BVrsp",
        "outputId": "03bbdd88-5d9f-4e57-fc90-4bb381cc0288"
      },
      "source": [
        "# Import the Vgg 16 library as shown below and add preprocessing layer to the front of VGG\n",
        "# Here we will be using imagenet weights\n",
        "\n",
        "pre_model = VGG16(input_shape=IMAGE_SIZE + [3], weights='imagenet', include_top=False)\n",
        "\n",
        "\n",
        "# don't train existing weights\n",
        "for layer in pre_model.layers:\n",
        "    layer.trainable = False\n",
        "    \n",
        "for (i,layer) in enumerate(pre_model.layers):\n",
        "    print(str(i) + \" \"+ layer.__class__.__name__, layer.trainable)"
      ],
      "execution_count": 32,
      "outputs": [
        {
          "output_type": "stream",
          "text": [
            "Downloading data from https://storage.googleapis.com/tensorflow/keras-applications/vgg16/vgg16_weights_tf_dim_ordering_tf_kernels_notop.h5\n",
            "58892288/58889256 [==============================] - 1s 0us/step\n",
            "0 InputLayer False\n",
            "1 Conv2D False\n",
            "2 Conv2D False\n",
            "3 MaxPooling2D False\n",
            "4 Conv2D False\n",
            "5 Conv2D False\n",
            "6 MaxPooling2D False\n",
            "7 Conv2D False\n",
            "8 Conv2D False\n",
            "9 Conv2D False\n",
            "10 MaxPooling2D False\n",
            "11 Conv2D False\n",
            "12 Conv2D False\n",
            "13 Conv2D False\n",
            "14 MaxPooling2D False\n",
            "15 Conv2D False\n",
            "16 Conv2D False\n",
            "17 Conv2D False\n",
            "18 MaxPooling2D False\n"
          ],
          "name": "stdout"
        }
      ]
    },
    {
      "cell_type": "code",
      "metadata": {
        "trusted": true,
        "id": "LKQLUYj1Vrsq"
      },
      "source": [
        "def addTopModel(bottom_model, num_classes, D=512):\n",
        "    top_model = bottom_model.output\n",
        "    top_model = Flatten(name = \"flatten\")(top_model)\n",
        "    top_model = Dense(D, activation = \"relu\")(top_model)\n",
        "    top_model = Dropout(0.4)(top_model)\n",
        "    top_model = Dense(num_classes, activation = \"softmax\")(top_model)\n",
        "    return top_model"
      ],
      "execution_count": 33,
      "outputs": []
    },
    {
      "cell_type": "code",
      "metadata": {
        "trusted": true,
        "colab": {
          "base_uri": "https://localhost:8080/"
        },
        "id": "BZyxYyHCVrsq",
        "outputId": "ef7d6697-3162-4901-fb9a-b91a1434fb92"
      },
      "source": [
        "num_classes = len(folders)\n",
        "FC_Layer = addTopModel(pre_model, num_classes)\n",
        "model = Model(inputs=pre_model.input, outputs=FC_Layer)\n",
        "print(model.summary())"
      ],
      "execution_count": 34,
      "outputs": [
        {
          "output_type": "stream",
          "text": [
            "Model: \"model\"\n",
            "_________________________________________________________________\n",
            "Layer (type)                 Output Shape              Param #   \n",
            "=================================================================\n",
            "input_1 (InputLayer)         [(None, 224, 224, 3)]     0         \n",
            "_________________________________________________________________\n",
            "block1_conv1 (Conv2D)        (None, 224, 224, 64)      1792      \n",
            "_________________________________________________________________\n",
            "block1_conv2 (Conv2D)        (None, 224, 224, 64)      36928     \n",
            "_________________________________________________________________\n",
            "block1_pool (MaxPooling2D)   (None, 112, 112, 64)      0         \n",
            "_________________________________________________________________\n",
            "block2_conv1 (Conv2D)        (None, 112, 112, 128)     73856     \n",
            "_________________________________________________________________\n",
            "block2_conv2 (Conv2D)        (None, 112, 112, 128)     147584    \n",
            "_________________________________________________________________\n",
            "block2_pool (MaxPooling2D)   (None, 56, 56, 128)       0         \n",
            "_________________________________________________________________\n",
            "block3_conv1 (Conv2D)        (None, 56, 56, 256)       295168    \n",
            "_________________________________________________________________\n",
            "block3_conv2 (Conv2D)        (None, 56, 56, 256)       590080    \n",
            "_________________________________________________________________\n",
            "block3_conv3 (Conv2D)        (None, 56, 56, 256)       590080    \n",
            "_________________________________________________________________\n",
            "block3_pool (MaxPooling2D)   (None, 28, 28, 256)       0         \n",
            "_________________________________________________________________\n",
            "block4_conv1 (Conv2D)        (None, 28, 28, 512)       1180160   \n",
            "_________________________________________________________________\n",
            "block4_conv2 (Conv2D)        (None, 28, 28, 512)       2359808   \n",
            "_________________________________________________________________\n",
            "block4_conv3 (Conv2D)        (None, 28, 28, 512)       2359808   \n",
            "_________________________________________________________________\n",
            "block4_pool (MaxPooling2D)   (None, 14, 14, 512)       0         \n",
            "_________________________________________________________________\n",
            "block5_conv1 (Conv2D)        (None, 14, 14, 512)       2359808   \n",
            "_________________________________________________________________\n",
            "block5_conv2 (Conv2D)        (None, 14, 14, 512)       2359808   \n",
            "_________________________________________________________________\n",
            "block5_conv3 (Conv2D)        (None, 14, 14, 512)       2359808   \n",
            "_________________________________________________________________\n",
            "block5_pool (MaxPooling2D)   (None, 7, 7, 512)         0         \n",
            "_________________________________________________________________\n",
            "flatten (Flatten)            (None, 25088)             0         \n",
            "_________________________________________________________________\n",
            "dense (Dense)                (None, 512)               12845568  \n",
            "_________________________________________________________________\n",
            "dropout (Dropout)            (None, 512)               0         \n",
            "_________________________________________________________________\n",
            "dense_1 (Dense)              (None, 5)                 2565      \n",
            "=================================================================\n",
            "Total params: 27,562,821\n",
            "Trainable params: 12,848,133\n",
            "Non-trainable params: 14,714,688\n",
            "_________________________________________________________________\n",
            "None\n"
          ],
          "name": "stdout"
        }
      ]
    },
    {
      "cell_type": "code",
      "metadata": {
        "trusted": true,
        "id": "-n43mfSJVrsr"
      },
      "source": [
        "from tensorflow.keras.optimizers import Adam\n",
        "from tensorflow.keras.callbacks import ModelCheckpoint, EarlyStopping"
      ],
      "execution_count": 35,
      "outputs": []
    },
    {
      "cell_type": "code",
      "metadata": {
        "trusted": true,
        "colab": {
          "base_uri": "https://localhost:8080/"
        },
        "id": "a1mbgj-cVrsr",
        "outputId": "7d0bef53-f36e-4263-864d-ee9a7b5cb788"
      },
      "source": [
        "# tell the model what cost and optimization method to use\n",
        "model.compile(loss = 'categorical_crossentropy',\n",
        "              optimizer = Adam(lr = 0.0001),\n",
        "              metrics = ['accuracy'])"
      ],
      "execution_count": 36,
      "outputs": [
        {
          "output_type": "stream",
          "text": [
            "/usr/local/lib/python3.7/dist-packages/tensorflow/python/keras/optimizer_v2/optimizer_v2.py:375: UserWarning: The `lr` argument is deprecated, use `learning_rate` instead.\n",
            "  \"The `lr` argument is deprecated, use `learning_rate` instead.\")\n"
          ],
          "name": "stderr"
        }
      ]
    },
    {
      "cell_type": "code",
      "metadata": {
        "colab": {
          "base_uri": "https://localhost:8080/"
        },
        "id": "vOI4yNQm2ITd",
        "outputId": "430a1ef6-6870-433c-baac-a75b1633bb88"
      },
      "source": [
        "# fit the model\n",
        "# Run the cell. It will take some time to execute\n",
        "train_samples_count=804\n",
        "test_samples_count=201\n",
        "epochs = 40\n",
        "batch_size = 32\n",
        "\n",
        "checkpoint = ModelCheckpoint(\"./weights.h5\",\n",
        "                             monitor=\"val_loss\",\n",
        "                             mode=\"min\",\n",
        "                             save_best_only = True,\n",
        "                             verbose=1)\n",
        "#Modelcheckpoint\n",
        "#checkpoint = from tensorflow.keras.callbacks.ModelCheckpoint('./model.h5',monitor='val_loss',mode='min', verbose=1, save_best_only=True)\n",
        "\n",
        "#callback = [tf.keras.callbacks.EarlyStopping(patience=2, monitor='val_loss')]\n",
        "\n",
        "\n",
        "callback = [checkpoint]\n",
        "\n",
        "history = model.fit_generator(\n",
        "    train_generator,\n",
        "    validation_data=test_generator,\n",
        "    steps_per_epoch = train_samples_count // batch_size,\n",
        "    validation_steps=test_samples_count // batch_size,\n",
        "    epochs = epochs,\n",
        "    callbacks = callback)"
      ],
      "execution_count": 37,
      "outputs": [
        {
          "output_type": "stream",
          "text": [
            "/usr/local/lib/python3.7/dist-packages/tensorflow/python/keras/engine/training.py:1940: UserWarning: `Model.fit_generator` is deprecated and will be removed in a future version. Please use `Model.fit`, which supports generators.\n",
            "  warnings.warn('`Model.fit_generator` is deprecated and '\n"
          ],
          "name": "stderr"
        },
        {
          "output_type": "stream",
          "text": [
            "Epoch 1/40\n",
            "25/25 [==============================] - 47s 463ms/step - loss: 1.6072 - accuracy: 0.3433 - val_loss: 1.4281 - val_accuracy: 0.3646\n",
            "\n",
            "Epoch 00001: val_loss improved from inf to 1.42813, saving model to ./weights.h5\n",
            "Epoch 2/40\n",
            "25/25 [==============================] - 11s 430ms/step - loss: 1.2289 - accuracy: 0.5091 - val_loss: 1.2910 - val_accuracy: 0.4635\n",
            "\n",
            "Epoch 00002: val_loss improved from 1.42813 to 1.29104, saving model to ./weights.h5\n",
            "Epoch 3/40\n",
            "25/25 [==============================] - 11s 424ms/step - loss: 1.0653 - accuracy: 0.5764 - val_loss: 1.0107 - val_accuracy: 0.6354\n",
            "\n",
            "Epoch 00003: val_loss improved from 1.29104 to 1.01071, saving model to ./weights.h5\n",
            "Epoch 4/40\n",
            "25/25 [==============================] - 11s 451ms/step - loss: 0.9331 - accuracy: 0.6256 - val_loss: 0.9819 - val_accuracy: 0.6198\n",
            "\n",
            "Epoch 00004: val_loss improved from 1.01071 to 0.98195, saving model to ./weights.h5\n",
            "Epoch 5/40\n",
            "25/25 [==============================] - 12s 457ms/step - loss: 0.8481 - accuracy: 0.6658 - val_loss: 0.9448 - val_accuracy: 0.6458\n",
            "\n",
            "Epoch 00005: val_loss improved from 0.98195 to 0.94480, saving model to ./weights.h5\n",
            "Epoch 6/40\n",
            "25/25 [==============================] - 11s 426ms/step - loss: 0.8013 - accuracy: 0.6930 - val_loss: 0.7827 - val_accuracy: 0.6875\n",
            "\n",
            "Epoch 00006: val_loss improved from 0.94480 to 0.78272, saving model to ./weights.h5\n",
            "Epoch 7/40\n",
            "25/25 [==============================] - 11s 425ms/step - loss: 0.7125 - accuracy: 0.7448 - val_loss: 0.7214 - val_accuracy: 0.7448\n",
            "\n",
            "Epoch 00007: val_loss improved from 0.78272 to 0.72137, saving model to ./weights.h5\n",
            "Epoch 8/40\n",
            "25/25 [==============================] - 11s 456ms/step - loss: 0.6755 - accuracy: 0.7409 - val_loss: 0.8387 - val_accuracy: 0.6615\n",
            "\n",
            "Epoch 00008: val_loss did not improve from 0.72137\n",
            "Epoch 9/40\n",
            "25/25 [==============================] - 12s 461ms/step - loss: 0.6594 - accuracy: 0.7565 - val_loss: 0.7083 - val_accuracy: 0.7448\n",
            "\n",
            "Epoch 00009: val_loss improved from 0.72137 to 0.70833, saving model to ./weights.h5\n",
            "Epoch 10/40\n",
            "25/25 [==============================] - 11s 441ms/step - loss: 0.5881 - accuracy: 0.7837 - val_loss: 0.7422 - val_accuracy: 0.7188\n",
            "\n",
            "Epoch 00010: val_loss did not improve from 0.70833\n",
            "Epoch 11/40\n",
            "25/25 [==============================] - 11s 432ms/step - loss: 0.5946 - accuracy: 0.7876 - val_loss: 0.6529 - val_accuracy: 0.7552\n",
            "\n",
            "Epoch 00011: val_loss improved from 0.70833 to 0.65286, saving model to ./weights.h5\n",
            "Epoch 12/40\n",
            "25/25 [==============================] - 11s 433ms/step - loss: 0.5312 - accuracy: 0.8148 - val_loss: 0.5984 - val_accuracy: 0.7708\n",
            "\n",
            "Epoch 00012: val_loss improved from 0.65286 to 0.59836, saving model to ./weights.h5\n",
            "Epoch 13/40\n",
            "25/25 [==============================] - 11s 455ms/step - loss: 0.4890 - accuracy: 0.8187 - val_loss: 0.5704 - val_accuracy: 0.8177\n",
            "\n",
            "Epoch 00013: val_loss improved from 0.59836 to 0.57041, saving model to ./weights.h5\n",
            "Epoch 14/40\n",
            "25/25 [==============================] - 11s 448ms/step - loss: 0.4518 - accuracy: 0.8459 - val_loss: 0.5193 - val_accuracy: 0.8385\n",
            "\n",
            "Epoch 00014: val_loss improved from 0.57041 to 0.51928, saving model to ./weights.h5\n",
            "Epoch 15/40\n",
            "25/25 [==============================] - 11s 450ms/step - loss: 0.4647 - accuracy: 0.8433 - val_loss: 0.5274 - val_accuracy: 0.8229\n",
            "\n",
            "Epoch 00015: val_loss did not improve from 0.51928\n",
            "Epoch 16/40\n",
            "25/25 [==============================] - 11s 437ms/step - loss: 0.4237 - accuracy: 0.8575 - val_loss: 0.5137 - val_accuracy: 0.8021\n",
            "\n",
            "Epoch 00016: val_loss improved from 0.51928 to 0.51375, saving model to ./weights.h5\n",
            "Epoch 17/40\n",
            "25/25 [==============================] - 11s 428ms/step - loss: 0.4019 - accuracy: 0.8614 - val_loss: 0.4365 - val_accuracy: 0.8438\n",
            "\n",
            "Epoch 00017: val_loss improved from 0.51375 to 0.43647, saving model to ./weights.h5\n",
            "Epoch 18/40\n",
            "25/25 [==============================] - 11s 441ms/step - loss: 0.4241 - accuracy: 0.8407 - val_loss: 0.4297 - val_accuracy: 0.8750\n",
            "\n",
            "Epoch 00018: val_loss improved from 0.43647 to 0.42975, saving model to ./weights.h5\n",
            "Epoch 19/40\n",
            "25/25 [==============================] - 12s 460ms/step - loss: 0.3554 - accuracy: 0.8821 - val_loss: 0.4183 - val_accuracy: 0.8698\n",
            "\n",
            "Epoch 00019: val_loss improved from 0.42975 to 0.41832, saving model to ./weights.h5\n",
            "Epoch 20/40\n",
            "25/25 [==============================] - 11s 436ms/step - loss: 0.3521 - accuracy: 0.8705 - val_loss: 0.4254 - val_accuracy: 0.8438\n",
            "\n",
            "Epoch 00020: val_loss did not improve from 0.41832\n",
            "Epoch 21/40\n",
            "25/25 [==============================] - 11s 438ms/step - loss: 0.3404 - accuracy: 0.8782 - val_loss: 0.4027 - val_accuracy: 0.8750\n",
            "\n",
            "Epoch 00021: val_loss improved from 0.41832 to 0.40265, saving model to ./weights.h5\n",
            "Epoch 22/40\n",
            "25/25 [==============================] - 11s 433ms/step - loss: 0.3422 - accuracy: 0.8964 - val_loss: 0.4360 - val_accuracy: 0.8594\n",
            "\n",
            "Epoch 00022: val_loss did not improve from 0.40265\n",
            "Epoch 23/40\n",
            "25/25 [==============================] - 11s 442ms/step - loss: 0.3342 - accuracy: 0.8990 - val_loss: 0.3795 - val_accuracy: 0.8802\n",
            "\n",
            "Epoch 00023: val_loss improved from 0.40265 to 0.37955, saving model to ./weights.h5\n",
            "Epoch 24/40\n",
            "25/25 [==============================] - 12s 458ms/step - loss: 0.3042 - accuracy: 0.9041 - val_loss: 0.3633 - val_accuracy: 0.8698\n",
            "\n",
            "Epoch 00024: val_loss improved from 0.37955 to 0.36332, saving model to ./weights.h5\n",
            "Epoch 25/40\n",
            "25/25 [==============================] - 11s 432ms/step - loss: 0.3021 - accuracy: 0.9016 - val_loss: 0.3371 - val_accuracy: 0.9010\n",
            "\n",
            "Epoch 00025: val_loss improved from 0.36332 to 0.33712, saving model to ./weights.h5\n",
            "Epoch 26/40\n",
            "25/25 [==============================] - 11s 434ms/step - loss: 0.3235 - accuracy: 0.8951 - val_loss: 0.3708 - val_accuracy: 0.8750\n",
            "\n",
            "Epoch 00026: val_loss did not improve from 0.33712\n",
            "Epoch 27/40\n",
            "25/25 [==============================] - 11s 456ms/step - loss: 0.3195 - accuracy: 0.9003 - val_loss: 0.3468 - val_accuracy: 0.8750\n",
            "\n",
            "Epoch 00027: val_loss did not improve from 0.33712\n",
            "Epoch 28/40\n",
            "25/25 [==============================] - 11s 458ms/step - loss: 0.3135 - accuracy: 0.8847 - val_loss: 0.3421 - val_accuracy: 0.8958\n",
            "\n",
            "Epoch 00028: val_loss did not improve from 0.33712\n",
            "Epoch 29/40\n",
            "25/25 [==============================] - 11s 436ms/step - loss: 0.3115 - accuracy: 0.9041 - val_loss: 0.3276 - val_accuracy: 0.8906\n",
            "\n",
            "Epoch 00029: val_loss improved from 0.33712 to 0.32760, saving model to ./weights.h5\n",
            "Epoch 30/40\n",
            "25/25 [==============================] - 11s 433ms/step - loss: 0.2480 - accuracy: 0.9288 - val_loss: 0.3135 - val_accuracy: 0.8958\n",
            "\n",
            "Epoch 00030: val_loss improved from 0.32760 to 0.31348, saving model to ./weights.h5\n",
            "Epoch 31/40\n",
            "25/25 [==============================] - 11s 454ms/step - loss: 0.2709 - accuracy: 0.9016 - val_loss: 0.2974 - val_accuracy: 0.9010\n",
            "\n",
            "Epoch 00031: val_loss improved from 0.31348 to 0.29736, saving model to ./weights.h5\n",
            "Epoch 32/40\n",
            "25/25 [==============================] - 11s 443ms/step - loss: 0.2277 - accuracy: 0.9352 - val_loss: 0.2892 - val_accuracy: 0.9115\n",
            "\n",
            "Epoch 00032: val_loss improved from 0.29736 to 0.28919, saving model to ./weights.h5\n",
            "Epoch 33/40\n",
            "25/25 [==============================] - 11s 437ms/step - loss: 0.2378 - accuracy: 0.9378 - val_loss: 0.3239 - val_accuracy: 0.8958\n",
            "\n",
            "Epoch 00033: val_loss did not improve from 0.28919\n",
            "Epoch 34/40\n",
            "25/25 [==============================] - 11s 435ms/step - loss: 0.2037 - accuracy: 0.9438 - val_loss: 0.2419 - val_accuracy: 0.9323\n",
            "\n",
            "Epoch 00034: val_loss improved from 0.28919 to 0.24191, saving model to ./weights.h5\n",
            "Epoch 35/40\n",
            "25/25 [==============================] - 11s 433ms/step - loss: 0.2075 - accuracy: 0.9352 - val_loss: 0.2726 - val_accuracy: 0.9115\n",
            "\n",
            "Epoch 00035: val_loss did not improve from 0.24191\n",
            "Epoch 36/40\n",
            "25/25 [==============================] - 11s 452ms/step - loss: 0.2060 - accuracy: 0.9339 - val_loss: 0.2821 - val_accuracy: 0.9062\n",
            "\n",
            "Epoch 00036: val_loss did not improve from 0.24191\n",
            "Epoch 37/40\n",
            "25/25 [==============================] - 11s 444ms/step - loss: 0.1974 - accuracy: 0.9404 - val_loss: 0.2374 - val_accuracy: 0.9531\n",
            "\n",
            "Epoch 00037: val_loss improved from 0.24191 to 0.23738, saving model to ./weights.h5\n",
            "Epoch 38/40\n",
            "25/25 [==============================] - 12s 464ms/step - loss: 0.2168 - accuracy: 0.9365 - val_loss: 0.2511 - val_accuracy: 0.9219\n",
            "\n",
            "Epoch 00038: val_loss did not improve from 0.23738\n",
            "Epoch 39/40\n",
            "25/25 [==============================] - 11s 454ms/step - loss: 0.2237 - accuracy: 0.9262 - val_loss: 0.2243 - val_accuracy: 0.9531\n",
            "\n",
            "Epoch 00039: val_loss improved from 0.23738 to 0.22427, saving model to ./weights.h5\n",
            "Epoch 40/40\n",
            "25/25 [==============================] - 11s 427ms/step - loss: 0.1865 - accuracy: 0.9469 - val_loss: 0.2196 - val_accuracy: 0.9583\n",
            "\n",
            "Epoch 00040: val_loss improved from 0.22427 to 0.21960, saving model to ./weights.h5\n"
          ],
          "name": "stdout"
        }
      ]
    },
    {
      "cell_type": "code",
      "metadata": {
        "id": "eFCFY0FBilJI"
      },
      "source": [
        ""
      ],
      "execution_count": null,
      "outputs": []
    },
    {
      "cell_type": "code",
      "metadata": {
        "id": "752b47wwDEoq",
        "colab": {
          "base_uri": "https://localhost:8080/",
          "height": 590
        },
        "outputId": "6e2968ae-4db6-4e95-9e78-ff81206f6214"
      },
      "source": [
        "# plot the loss\n",
        "import matplotlib.pyplot as plt\n",
        "plt.plot(history.history['loss'], label='train loss')\n",
        "plt.plot(history.history['val_loss'], label='val loss')\n",
        "plt.xlabel('epochs') \n",
        "plt.ylabel('loss')\n",
        "plt.title('Loss Graph')  \n",
        "plt.legend()\n",
        "plt.show()\n",
        "plt.savefig('LossVal_loss')\n",
        "\n",
        "# plot the accuracy\n",
        "plt.plot(history.history['accuracy'], label='train acc')\n",
        "plt.plot(history.history['val_accuracy'], label='val acc')\n",
        "plt.xlabel('epochs') \n",
        "plt.ylabel('accuracy')\n",
        "plt.title('Accuracy Graph')\n",
        "plt.legend()\n",
        "plt.show()\n",
        "plt.savefig('AccVal_acc')"
      ],
      "execution_count": 38,
      "outputs": [
        {
          "output_type": "display_data",
          "data": {
            "image/png": "[encoded data removed]",
            "text/plain": [
              "<Figure size 432x288 with 1 Axes>"
            ]
          },
          "metadata": {
            "tags": []
          }
        },
        {
          "output_type": "display_data",
          "data": {
            "image/png": "[encoded data removed]",
            "text/plain": [
              "<Figure size 432x288 with 1 Axes>"
            ]
          },
          "metadata": {
            "tags": []
          }
        },
        {
          "output_type": "display_data",
          "data": {
            "text/plain": [
              "<Figure size 432x288 with 0 Axes>"
            ]
          },
          "metadata": {
            "tags": []
          }
        }
      ]
    },
    {
      "cell_type": "code",
      "metadata": {
        "trusted": true,
        "colab": {
          "base_uri": "https://localhost:8080/"
        },
        "id": "6I228emBVrst",
        "outputId": "1cf0548c-e7d1-4417-f029-f55db7007778"
      },
      "source": [
        "model.load_weights(\"weights.h5\")\n",
        "class_labels = test_generator.class_indices\n",
        "class_labels = {v: k for k, v in class_labels.items()}\n",
        "classes = list(class_labels.values())\n",
        "Y_pred = model.predict_generator(test_generator)\n",
        "y_pred = np.argmax(Y_pred, axis=1)"
      ],
      "execution_count": 39,
      "outputs": [
        {
          "output_type": "stream",
          "text": [
            "/usr/local/lib/python3.7/dist-packages/tensorflow/python/keras/engine/training.py:2001: UserWarning: `Model.predict_generator` is deprecated and will be removed in a future version. Please use `Model.predict`, which supports generators.\n",
            "  warnings.warn('`Model.predict_generator` is deprecated and '\n"
          ],
          "name": "stderr"
        }
      ]
    },
    {
      "cell_type": "code",
      "metadata": {
        "trusted": true,
        "colab": {
          "base_uri": "https://localhost:8080/",
          "height": 813
        },
        "id": "J7lSZtV1Vrst",
        "outputId": "a507800c-117a-429f-a8f6-57e256e27edb"
      },
      "source": [
        "print('Confusion Matrix')\n",
        "print(confusion_matrix(test_generator.classes, y_pred))\n",
        "print('Classification Report')\n",
        "target_names = list(class_labels.values())\n",
        "print(classification_report(test_generator.classes, y_pred, target_names=target_names))\n",
        "\n",
        "plt.figure(figsize=(8,8))\n",
        "cnf_matrix = confusion_matrix(test_generator.classes, y_pred)\n",
        "\n",
        "plt.imshow(cnf_matrix, interpolation=None)\n",
        "plt.title('Confusion_Matrix')\n",
        "plt.colorbar(label=\"counts\")\n",
        "tick_marks = np.arange(len(classes))\n",
        "_ = plt.xticks(tick_marks, classes, rotation=90)\n",
        "_ = plt.yticks(tick_marks, classes)"
      ],
      "execution_count": 40,
      "outputs": [
        {
          "output_type": "stream",
          "text": [
            "Confusion Matrix\n",
            "[[39  0  0  1  0]\n",
            " [ 0 40  0  0  0]\n",
            " [ 0  1 36  2  1]\n",
            " [ 0  0  1 39  0]\n",
            " [ 0  1  0  1 39]]\n",
            "Classification Report\n",
            "              precision    recall  f1-score   support\n",
            "\n",
            "        jute       1.00      0.97      0.99        40\n",
            "       maize       0.95      1.00      0.98        40\n",
            "        rice       0.97      0.90      0.94        40\n",
            "   sugarcane       0.91      0.97      0.94        40\n",
            "       wheat       0.97      0.95      0.96        41\n",
            "\n",
            "    accuracy                           0.96       201\n",
            "   macro avg       0.96      0.96      0.96       201\n",
            "weighted avg       0.96      0.96      0.96       201\n",
            "\n"
          ],
          "name": "stdout"
        },
        {
          "output_type": "display_data",
          "data": {
            "image/png": "[encoded data removed]",
            "text/plain": [
              "<Figure size 576x576 with 2 Axes>"
            ]
          },
          "metadata": {
            "tags": []
          }
        }
      ]
    },
    {
      "cell_type": "code",
      "metadata": {
        "trusted": true,
        "id": "eRIWwGg-Vrsu"
      },
      "source": [
        ""
      ],
      "execution_count": null,
      "outputs": []
    },
    {
      "cell_type": "markdown",
      "metadata": {
        "id": "7sYqQWyJFkyd"
      },
      "source": [
        "Random Images Predictions"
      ]
    },
    {
      "cell_type": "code",
      "metadata": {
        "trusted": true,
        "id": "726yFBckVrsu"
      },
      "source": [
        "import cv2\n",
        "import numpy as np"
      ],
      "execution_count": 41,
      "outputs": []
    },
    {
      "cell_type": "code",
      "metadata": {
        "trusted": true,
        "id": "aC-WoGV9Vrsu"
      },
      "source": [
        "def predict_crop(path,actual,class_labels):\n",
        "    predict_datagen = ImageDataGenerator(rescale=1./255)\n",
        "    img = cv2.imread(path)\n",
        "    img = cv2.resize(img, (224, 224))\n",
        "    img = np.array(img).reshape((1, 224, 224, 3))\n",
        "    Y_pred = model.predict(img)\n",
        "    y_pred = np.argmax(Y_pred, axis=1)\n",
        "    if y_pred == actual:\n",
        "        print('Correct prediction')\n",
        "    else:\n",
        "        print(\"Messed up!!\")\n",
        "    print('Actual class \"{0}\" and predicted class \"{1}\"'.format(class_labels[actual],class_labels[int(y_pred)]))\n",
        "\n"
      ],
      "execution_count": 42,
      "outputs": []
    },
    {
      "cell_type": "code",
      "metadata": {
        "colab": {
          "base_uri": "https://localhost:8080/"
        },
        "id": "aDheIqLXC7VS",
        "outputId": "33bfef89-4003-4f37-ad76-86ce22cadfef"
      },
      "source": [
        "class_labels"
      ],
      "execution_count": 43,
      "outputs": [
        {
          "output_type": "execute_result",
          "data": {
            "text/plain": [
              "{0: 'jute', 1: 'maize', 2: 'rice', 3: 'sugarcane', 4: 'wheat'}"
            ]
          },
          "metadata": {
            "tags": []
          },
          "execution_count": 43
        }
      ]
    },
    {
      "cell_type": "code",
      "metadata": {
        "trusted": true,
        "colab": {
          "base_uri": "https://localhost:8080/"
        },
        "id": "z0kDqOCDVrsv",
        "outputId": "9b5118f2-6b0c-497b-87ce-07b4c0304728"
      },
      "source": [
        "predict_crop('/content/drive/MyDrive/Crop dataset/random_crop_image/wheatcrop01.jpg',4,class_labels)"
      ],
      "execution_count": 46,
      "outputs": [
        {
          "output_type": "stream",
          "text": [
            "Correct prediction\n",
            "Actual class \"wheat\" and predicted class \"wheat\"\n"
          ],
          "name": "stdout"
        }
      ]
    },
    {
      "cell_type": "code",
      "metadata": {
        "trusted": true,
        "colab": {
          "base_uri": "https://localhost:8080/"
        },
        "id": "s3bvsFImVrsv",
        "outputId": "7de3cd51-6d3e-494a-e543-1a79cd054d67"
      },
      "source": [
        "predict_crop('/content/drive/MyDrive/Crop dataset/random_crop_image/wheat.jpg',4,class_labels)"
      ],
      "execution_count": 45,
      "outputs": [
        {
          "output_type": "stream",
          "text": [
            "Messed up!!\n",
            "Actual class \"wheat\" and predicted class \"rice\"\n"
          ],
          "name": "stdout"
        }
      ]
    },
    {
      "cell_type": "code",
      "metadata": {
        "trusted": true,
        "colab": {
          "base_uri": "https://localhost:8080/"
        },
        "id": "i6Wd1r5_Vrsv",
        "outputId": "df245635-5479-405f-aa9c-0b51332cb5b4"
      },
      "source": [
        "predict_crop('/content/drive/MyDrive/Crop dataset/random_crop_image/sugarcane-farm-in-the-mountain-countryside-of-thailand.jpg',3,class_labels)"
      ],
      "execution_count": 50,
      "outputs": [
        {
          "output_type": "stream",
          "text": [
            "Messed up!!\n",
            "Actual class \"sugarcane\" and predicted class \"jute\"\n"
          ],
          "name": "stdout"
        }
      ]
    },
    {
      "cell_type": "code",
      "metadata": {
        "trusted": true,
        "colab": {
          "base_uri": "https://localhost:8080/"
        },
        "id": "7uoktc-dVrsw",
        "outputId": "1118827b-2c78-46f2-da44-be8d7b14312f"
      },
      "source": [
        "predict_crop('/content/drive/MyDrive/Crop dataset/random_crop_image/jute003.jpg',0,class_labels)"
      ],
      "execution_count": 51,
      "outputs": [
        {
          "output_type": "stream",
          "text": [
            "Correct prediction\n",
            "Actual class \"jute\" and predicted class \"jute\"\n"
          ],
          "name": "stdout"
        }
      ]
    },
    {
      "cell_type": "code",
      "metadata": {
        "trusted": true,
        "id": "MEdO6y0EVrsx"
      },
      "source": [
        ""
      ],
      "execution_count": null,
      "outputs": []
    }
  ]
}